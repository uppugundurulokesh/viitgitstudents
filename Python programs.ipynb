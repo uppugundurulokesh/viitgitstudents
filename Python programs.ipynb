{
 "cells": [
  {
   "cell_type": "code",
   "execution_count": 1,
   "metadata": {},
   "outputs": [
    {
     "name": "stdout",
     "output_type": "stream",
     "text": [
      "20 10\n"
     ]
    }
   ],
   "source": [
    "# swap the two numbers using third variable\n",
    "# ex: a=10; b=20 => a=20 ; b=10\n",
    "\n",
    "a=10\n",
    "b=20\n",
    "\n",
    "temp=a\n",
    "a=b\n",
    "b=temp\n",
    "\n",
    "print(a,b)"
   ]
  },
  {
   "cell_type": "code",
   "execution_count": 2,
   "metadata": {},
   "outputs": [
    {
     "name": "stdout",
     "output_type": "stream",
     "text": [
      "20 10\n"
     ]
    }
   ],
   "source": [
    "# swap the two numbers without using third variable\n",
    "a=10\n",
    "b=20\n",
    "\n",
    "a=a+b     # a=10+20 => a=30\n",
    "b=a-b     # b=30-20 => b=10\n",
    "a=a-b     # a=30-10 => a=20\n",
    "\n",
    "print(a,b)"
   ]
  },
  {
   "cell_type": "code",
   "execution_count": 5,
   "metadata": {},
   "outputs": [
    {
     "name": "stdout",
     "output_type": "stream",
     "text": [
      "Enter student marks 90\n",
      "first class with dist\n"
     ]
    }
   ],
   "source": [
    "# swap the two numbers without using arthamatic operations and thid variable\n",
    "# print the student grade\n",
    "# 80-100 => first class with dist\n",
    "# 60-80 => second\n",
    "# 45-60 => third\n",
    "# 45<  => failed\n",
    "\n",
    "marks=int(input(\"Enter student marks \"))\n",
    "if(marks>=80 and marks<=100):\n",
    "    print(\"first class with dist\")\n",
    "elif(marks>=60 and marks<80):\n",
    "    print(\"second class\")\n",
    "elif(marks>=45 and marks<60):\n",
    "    print(\"third\")\n",
    "else:\n",
    "    print(\"failed! please try again...\")"
   ]
  },
  {
   "cell_type": "code",
   "execution_count": 10,
   "metadata": {},
   "outputs": [
    {
     "name": "stdout",
     "output_type": "stream",
     "text": [
      "count of even numbers from 1 to 10 is  5\n"
     ]
    }
   ],
   "source": [
    "# find the how many even numbers from 1 to 10\n",
    "c=0\n",
    "for i in range(1,11):\n",
    "    if(i%2==0):\n",
    "        c=c+1\n",
    "        #print(i,end=\" \")\n",
    "print(\"count of even numbers from 1 to 10 is \",c)"
   ]
  },
  {
   "cell_type": "code",
   "execution_count": 12,
   "metadata": {},
   "outputs": [
    {
     "name": "stdout",
     "output_type": "stream",
     "text": [
      "enter a number 4\n",
      "4 * 1 = 4\n",
      "4 * 2 = 8\n",
      "4 * 3 = 12\n",
      "4 * 4 = 16\n",
      "4 * 5 = 20\n",
      "4 * 6 = 24\n",
      "4 * 7 = 28\n",
      "4 * 8 = 32\n",
      "4 * 9 = 36\n",
      "4 * 10 = 40\n"
     ]
    }
   ],
   "source": [
    "# print the multiplication table of given number\n",
    "n=int(input(\"enter a number \"))\n",
    "for i in range(1,11):\n",
    "    print(n,\"*\",i,\"=\",n*i)"
   ]
  },
  {
   "cell_type": "code",
   "execution_count": 14,
   "metadata": {},
   "outputs": [
    {
     "name": "stdout",
     "output_type": "stream",
     "text": [
      "enter a number5\n",
      "factorial of a given number is  120\n"
     ]
    }
   ],
   "source": [
    "# print the factorial of a given number\n",
    "#ex; 5 => 5*4*3*2*1 =>120\n",
    "n=int(input(\"enter a number\"))\n",
    "s=1\n",
    "for i in range(1,n+1):  #1,2,3,4,5\n",
    "    s=s*i               # s=24*5\n",
    "print(\"factorial of a given number is \",s)"
   ]
  },
  {
   "cell_type": "code",
   "execution_count": 15,
   "metadata": {},
   "outputs": [
    {
     "name": "stdout",
     "output_type": "stream",
     "text": [
      "enter a number 6\n",
      "1 2 3 6 "
     ]
    }
   ],
   "source": [
    "# find the factors of a given number\n",
    "# ex:  6 => 1,2,3,6\n",
    "n=int(input(\"enter a number \"))\n",
    "for i in range(1,n+1):   # 1,2,3,4,5,6\n",
    "    if(n%i==0):          # 6%6==0 => 1,2,3,6\n",
    "        print(i,end=\" \")"
   ]
  },
  {
   "cell_type": "code",
   "execution_count": 16,
   "metadata": {},
   "outputs": [
    {
     "name": "stdout",
     "output_type": "stream",
     "text": [
      "enter a number 6\n",
      "sum of factors of a given number is  12\n"
     ]
    }
   ],
   "source": [
    "# find the sum of factors of the given number\n",
    "# 6 => 1,2,3,6 => 12\n",
    "n=int(input(\"enter a number \"))\n",
    "s=0\n",
    "for i in range(1,n+1):   # 1,2,3,4,5,6\n",
    "    if(n%i==0):          # 6%6==0 => 1,2,3,6\n",
    "        #print(i,end=\" \")\n",
    "        s=s+i\n",
    "print(\"sum of factors of a given number is \",s)"
   ]
  },
  {
   "cell_type": "code",
   "execution_count": 19,
   "metadata": {},
   "outputs": [
    {
     "name": "stdout",
     "output_type": "stream",
     "text": [
      "enter a number 5\n",
      "given number is prime\n"
     ]
    }
   ],
   "source": [
    "# print the given number is prime or not\n",
    "# prime => number is divisible by one and itself is known as prime\n",
    "n=int(input(\"enter a number \"))\n",
    "c=0\n",
    "for i in range(2,n):  # 2,3,4\n",
    "    if(n%i==0):\n",
    "        c=c+1\n",
    "if(c==0):\n",
    "    print(\"given number is prime\")\n",
    "else:\n",
    "    print(\"given number is not prime\")"
   ]
  },
  {
   "cell_type": "code",
   "execution_count": 21,
   "metadata": {},
   "outputs": [
    {
     "name": "stdout",
     "output_type": "stream",
     "text": [
      "enter first number 1\n",
      "enter second number 100\n",
      "enter number is above one\n",
      "2 3 5 7 11 13 17 19 23 29 31 37 41 43 47 53 59 61 67 71 73 79 83 89 97 "
     ]
    }
   ],
   "source": [
    "# print the prime numbers in between range\n",
    "first=int(input(\"enter first number \"))\n",
    "second=int(input(\"enter second number \"))\n",
    "for i in range(first,second+1):\n",
    "    if(i>1):\n",
    "        c=0\n",
    "        for j in range(2,i):\n",
    "            if(i%j==0):\n",
    "                c=c+1\n",
    "        if(c==0):\n",
    "            print(i,end=\" \")\n",
    "    else:\n",
    "        print(\"enter number is above one\")"
   ]
  },
  {
   "cell_type": "code",
   "execution_count": 22,
   "metadata": {},
   "outputs": [
    {
     "name": "stdout",
     "output_type": "stream",
     "text": [
      "enter a number 123\n",
      "sum of digits of number is 6\n"
     ]
    }
   ],
   "source": [
    "# print the sum of digits:\n",
    "# ex: 123 => 1+2+3 =>6\n",
    "n=int(input(\"enter a number \"))\n",
    "s=0\n",
    "while(n>0):    # 0>0\n",
    "    r=n%10     #r=1%10 => 1\n",
    "    s=s+r      # s=6\n",
    "    n=n//10    # n=1//10 => 0\n",
    "print(\"sum of digits of number is\",s)"
   ]
  },
  {
   "cell_type": "code",
   "execution_count": 24,
   "metadata": {},
   "outputs": [
    {
     "name": "stdout",
     "output_type": "stream",
     "text": [
      "enter a number 131\n",
      "palindrome\n"
     ]
    }
   ],
   "source": [
    "# print the given number is palindrome or not\n",
    "# palindrome => reverse of a number is equal to the given number is called palindrome\n",
    "# ex: 121 => 121\n",
    "n=int(input(\"enter a number \"))\n",
    "temp=n\n",
    "s=0\n",
    "while(n>0):    # 0>0\n",
    "    r=n%10     #r=1%10 => 1\n",
    "    s=s*10+r      # s=12*10+1 => 120+1 => 121\n",
    "    n=n//10    # n=1//10 => 0\n",
    "if(s==temp):\n",
    "    print(\"palindrome\")\n",
    "else:\n",
    "    print(\"not palindrome\")\n"
   ]
  },
  {
   "cell_type": "code",
   "execution_count": 1,
   "metadata": {},
   "outputs": [],
   "source": [
    "# 12345 => 15 => 6\n",
    "# hello => oellh\n",
    "# hello welcome => ifmmp xfmdpnf\n",
    "# hello123 welcome! => iffmp123 xfmdpnf!"
   ]
  },
  {
   "cell_type": "markdown",
   "metadata": {},
   "source": [
    "### 28-05-2021"
   ]
  },
  {
   "cell_type": "code",
   "execution_count": 3,
   "metadata": {},
   "outputs": [
    {
     "data": {
      "text/plain": [
       "'eello welcomh'"
      ]
     },
     "execution_count": 3,
     "metadata": {},
     "output_type": "execute_result"
    }
   ],
   "source": [
    "# replace the string positions i.e first character replace with last character and last character with replace first character\n",
    "# ex: hello => oellh\n",
    "\n",
    "#s='hello'\n",
    "s='hello welcome'\n",
    "s[-1]+s[1:-1]+s[0]\n"
   ]
  },
  {
   "cell_type": "code",
   "execution_count": 6,
   "metadata": {},
   "outputs": [
    {
     "name": "stdout",
     "output_type": "stream",
     "text": [
      "no.of occurance in given string 2\n"
     ]
    }
   ],
   "source": [
    "# find the occurance of given string in sentance\n",
    "# ex: hello welcome to all, hello welcome to python\n",
    "# s='hello'\n",
    "\n",
    "s='hello welcome to all, hello welcome to python'\n",
    "s1=s.split()\n",
    "c=0\n",
    "for i in s1:\n",
    "    #print(i)\n",
    "    if(i=='hello'):\n",
    "        c=c+1\n",
    "print(\"no.of occurance of given string is\",c)"
   ]
  },
  {
   "cell_type": "code",
   "execution_count": 8,
   "metadata": {},
   "outputs": [
    {
     "name": "stdout",
     "output_type": "stream",
     "text": [
      "enter a number1223\n",
      "not a lucky digit\n"
     ]
    }
   ],
   "source": [
    "# find the given number is lucky digit or not\n",
    "# n=123 => lucky digit ; n=12243 => not lucky digit\n",
    "n=int(input('enter a number'))\n",
    "s=str(n)\n",
    "s1=\"\"\n",
    "s2=\"\"\n",
    "for i in s:               # 12234\n",
    "    if i not in s1:       #1\n",
    "        s1=s1+i           # s1=1234\n",
    "    else:\n",
    "        s2=s2+i         #s2=2\n",
    "if(len(s2)==0):\n",
    "    print(\"lucky digit\")\n",
    "else:\n",
    "    print(\"not a lucky digit\")"
   ]
  },
  {
   "cell_type": "code",
   "execution_count": 14,
   "metadata": {},
   "outputs": [
    {
     "name": "stdout",
     "output_type": "stream",
     "text": [
      "enter a number 1634\n",
      "armstrong number\n"
     ]
    }
   ],
   "source": [
    "# find the given number is armstrong number or not\n",
    "# armstrong: sum of the power of lenght of individual number is equal to given number\n",
    "# ex: 153 => 1*1*1+5*5*5+3*3*3 => 153\n",
    "# ex: 1634\n",
    "\n",
    "n=int(input(\"enter a number \"))\n",
    "l=len(str(n))\n",
    "s=0\n",
    "temp=n\n",
    "while(n>0):     # 0\n",
    "    r=n%10      # r=1\n",
    "    s=s+pow(r,l)    # s=153\n",
    "    n=n//10     # n=0\n",
    "\n",
    "if(temp==s):\n",
    "    print(\"armstrong number\")\n",
    "else:\n",
    "    print(\"not a armstrong number\")\n",
    "    "
   ]
  },
  {
   "cell_type": "code",
   "execution_count": 15,
   "metadata": {},
   "outputs": [],
   "source": [
    "# print the inbetween range of armstrong numbers"
   ]
  },
  {
   "cell_type": "code",
   "execution_count": 19,
   "metadata": {},
   "outputs": [
    {
     "name": "stdout",
     "output_type": "stream",
     "text": [
      "[1, 2, 3, 4, 5, 6, 77, 10]\n",
      "[2, 2, 3, 4, 5, 6]\n"
     ]
    }
   ],
   "source": [
    "# remove the duplicate elements from list\n",
    "#l=[1,2,2,2,3,3,4,4,5,5,6,6,77,10]\n",
    "# l=[1,2,3,4,5,6,77,10]\n",
    "l=[1,2,2,2,3,3,4,4,5,5,6,6,77,10]\n",
    "l1=[]\n",
    "l2=[]\n",
    "for i in l:\n",
    "    if i not in l1:\n",
    "        l1.append(i)\n",
    "    else:\n",
    "        l2.append(i)\n",
    "print(l1)\n",
    "print(l2)"
   ]
  },
  {
   "cell_type": "code",
   "execution_count": 18,
   "metadata": {},
   "outputs": [
    {
     "data": {
      "text/plain": [
       "[1, 2, 3, 4, 5, 6, 10, 77]"
      ]
     },
     "execution_count": 18,
     "metadata": {},
     "output_type": "execute_result"
    }
   ],
   "source": [
    "l=[1,2,2,2,3,3,4,4,5,5,6,6,77,10]\n",
    "list(set(l))"
   ]
  },
  {
   "cell_type": "code",
   "execution_count": 20,
   "metadata": {},
   "outputs": [
    {
     "name": "stdout",
     "output_type": "stream",
     "text": [
      "enter n number 10\n",
      "0 1 1 2 3 5 8 13 21 34 "
     ]
    }
   ],
   "source": [
    "# print the fibonacci series upto n values\n",
    "# fibonacci series: 0 1 1 2 3 5 8 13....\n",
    "n=int(input(\"enter n number \"))\n",
    "a=0\n",
    "b=1\n",
    "c=0\n",
    "if(n==0):\n",
    "    print(\"print the valid number\")\n",
    "elif(n==1):\n",
    "    print(a)\n",
    "else:\n",
    "    while(c<n):  # 0<10\n",
    "        print(a, end=\" \")\n",
    "        t=a+b\n",
    "        a=b\n",
    "        b=t\n",
    "        c=c+1"
   ]
  },
  {
   "cell_type": "code",
   "execution_count": 24,
   "metadata": {},
   "outputs": [
    {
     "name": "stdout",
     "output_type": "stream",
     "text": [
      "0 1 2 3 4 5 6 7 8 9 "
     ]
    }
   ],
   "source": [
    "# print the 1 to 10 values\n",
    "i=0\n",
    "while(i<10):\n",
    "    print(i,end=\" \")\n",
    "    i=i+1"
   ]
  },
  {
   "cell_type": "code",
   "execution_count": 30,
   "metadata": {},
   "outputs": [
    {
     "name": "stdout",
     "output_type": "stream",
     "text": [
      "ifmmp!xfmdpnf\n"
     ]
    }
   ],
   "source": [
    "# print the next character of words\n",
    "# hello => oellh\n",
    "\n",
    "# ord('a')  => it prints the ascii value of character\n",
    "# chr(97)   => it print the character of ascii value\n",
    "\n",
    "s='hello'\n",
    "c=\"\"\n",
    "for i in s:\n",
    "    t=ord(i)\n",
    "    a=t+1\n",
    "    c=c+chr(a)\n",
    "print(c)"
   ]
  },
  {
   "cell_type": "code",
   "execution_count": 31,
   "metadata": {
    "collapsed": true
   },
   "outputs": [
    {
     "data": {
      "text/plain": [
       "['__add__',\n",
       " '__class__',\n",
       " '__contains__',\n",
       " '__delattr__',\n",
       " '__dir__',\n",
       " '__doc__',\n",
       " '__eq__',\n",
       " '__format__',\n",
       " '__ge__',\n",
       " '__getattribute__',\n",
       " '__getitem__',\n",
       " '__getnewargs__',\n",
       " '__gt__',\n",
       " '__hash__',\n",
       " '__init__',\n",
       " '__init_subclass__',\n",
       " '__iter__',\n",
       " '__le__',\n",
       " '__len__',\n",
       " '__lt__',\n",
       " '__mod__',\n",
       " '__mul__',\n",
       " '__ne__',\n",
       " '__new__',\n",
       " '__reduce__',\n",
       " '__reduce_ex__',\n",
       " '__repr__',\n",
       " '__rmod__',\n",
       " '__rmul__',\n",
       " '__setattr__',\n",
       " '__sizeof__',\n",
       " '__str__',\n",
       " '__subclasshook__',\n",
       " 'capitalize',\n",
       " 'casefold',\n",
       " 'center',\n",
       " 'count',\n",
       " 'encode',\n",
       " 'endswith',\n",
       " 'expandtabs',\n",
       " 'find',\n",
       " 'format',\n",
       " 'format_map',\n",
       " 'index',\n",
       " 'isalnum',\n",
       " 'isalpha',\n",
       " 'isascii',\n",
       " 'isdecimal',\n",
       " 'isdigit',\n",
       " 'isidentifier',\n",
       " 'islower',\n",
       " 'isnumeric',\n",
       " 'isprintable',\n",
       " 'isspace',\n",
       " 'istitle',\n",
       " 'isupper',\n",
       " 'join',\n",
       " 'ljust',\n",
       " 'lower',\n",
       " 'lstrip',\n",
       " 'maketrans',\n",
       " 'partition',\n",
       " 'replace',\n",
       " 'rfind',\n",
       " 'rindex',\n",
       " 'rjust',\n",
       " 'rpartition',\n",
       " 'rsplit',\n",
       " 'rstrip',\n",
       " 'split',\n",
       " 'splitlines',\n",
       " 'startswith',\n",
       " 'strip',\n",
       " 'swapcase',\n",
       " 'title',\n",
       " 'translate',\n",
       " 'upper',\n",
       " 'zfill']"
      ]
     },
     "execution_count": 31,
     "metadata": {},
     "output_type": "execute_result"
    }
   ],
   "source": [
    "s=\"\"\n",
    "dir(s)"
   ]
  },
  {
   "cell_type": "code",
   "execution_count": 32,
   "metadata": {},
   "outputs": [],
   "source": [
    "# print the ascii value a-z, A-Z"
   ]
  },
  {
   "cell_type": "code",
   "execution_count": 1,
   "metadata": {},
   "outputs": [
    {
     "name": "stdout",
     "output_type": "stream",
     "text": [
      "enter a number 12345\n",
      "15\n"
     ]
    }
   ],
   "source": [
    "# 12345 => 15 => 6\n",
    "n=int(input(\"enter a number \"))\n",
    "s=0\n",
    "while(n>0 or s>9):   #  15>0 or 15>9\n",
    "    if(n==0):\n",
    "        n=s          #n=15\n",
    "        s=0          #s=0\n",
    "    r=n%10\n",
    "    s=s+r\n",
    "    n=n//10\n",
    "print(s)"
   ]
  },
  {
   "cell_type": "code",
   "execution_count": null,
   "metadata": {},
   "outputs": [],
   "source": [
    "# print the no.of words in a given string\n",
    "#ex; hello welcome to all => 4\n",
    "\n",
    "#print the no.of characters in a given string\n",
    "# ex: hello welcome =>13\n",
    "\n",
    "#print the no.of characters in a given string without space\n",
    "# ex: hello welcome =>12\n",
    "\n",
    "#print the no.of special characters in a given string\n",
    "# ex: hello welcome@^=>3\n",
    "\n",
    "#remove the special characters and print the word\n",
    "# ex: hello@welcome$ => hellowelcome"
   ]
  },
  {
   "cell_type": "code",
   "execution_count": 2,
   "metadata": {},
   "outputs": [
    {
     "data": {
      "text/plain": [
       "True"
      ]
     },
     "execution_count": 2,
     "metadata": {},
     "output_type": "execute_result"
    }
   ],
   "source": [
    "bool(\"edho oka name\")"
   ]
  },
  {
   "cell_type": "code",
   "execution_count": 3,
   "metadata": {},
   "outputs": [
    {
     "data": {
      "text/plain": [
       "False"
      ]
     },
     "execution_count": 3,
     "metadata": {},
     "output_type": "execute_result"
    }
   ],
   "source": [
    "bool(\"\")"
   ]
  },
  {
   "cell_type": "code",
   "execution_count": 10,
   "metadata": {},
   "outputs": [
    {
     "name": "stdout",
     "output_type": "stream",
     "text": [
      "enter data true\n",
      "True\n"
     ]
    }
   ],
   "source": [
    "a=bool(input(\"enter data \"))\n",
    "print(a)"
   ]
  },
  {
   "cell_type": "code",
   "execution_count": null,
   "metadata": {},
   "outputs": [],
   "source": []
  },
  {
   "cell_type": "code",
   "execution_count": null,
   "metadata": {},
   "outputs": [],
   "source": []
  },
  {
   "cell_type": "code",
   "execution_count": null,
   "metadata": {},
   "outputs": [],
   "source": []
  }
 ],
 "metadata": {
  "kernelspec": {
   "display_name": "Python 3",
   "language": "python",
   "name": "python3"
  },
  "language_info": {
   "codemirror_mode": {
    "name": "ipython",
    "version": 3
   },
   "file_extension": ".py",
   "mimetype": "text/x-python",
   "name": "python",
   "nbconvert_exporter": "python",
   "pygments_lexer": "ipython3",
   "version": "3.7.3"
  }
 },
 "nbformat": 4,
 "nbformat_minor": 2
}
